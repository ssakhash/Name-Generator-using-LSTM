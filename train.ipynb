{
 "cells": [
  {
   "cell_type": "markdown",
   "id": "99022fe1",
   "metadata": {},
   "source": [
    "<h3>Importing the Libraries"
   ]
  },
  {
   "cell_type": "code",
   "execution_count": 1,
   "id": "4dc3c3b1",
   "metadata": {},
   "outputs": [],
   "source": [
    "import os\n",
    "import torch\n",
    "import numpy as np\n",
    "import pandas as pd\n",
    "import torch.nn as nn\n",
    "from copy import deepcopy\n",
    "import torch.optim as optim\n",
    "import matplotlib.pyplot as plt\n",
    "import torch.nn.functional as F\n",
    "from torch.utils.data import Dataset\n",
    "from torch.utils.data import DataLoader\n",
    "from torch.optim.lr_scheduler import StepLR"
   ]
  },
  {
   "cell_type": "markdown",
   "id": "e3723281",
   "metadata": {},
   "source": [
    "<h3>Manually performing OneHot Encoding on Alphabets and 'eon'"
   ]
  },
  {
   "cell_type": "code",
   "execution_count": 2,
   "id": "50011cca",
   "metadata": {},
   "outputs": [],
   "source": [
    "alphabets = [\"eon\", \"a\", \"b\", \"c\", \"d\", \"e\", \"f\", \"g\", \"h\", \"i\", \"j\", \"k\", \"l\", \"m\", \"n\", \"o\", \"p\", \"q\", \"r\", \"s\", \"t\", \"u\", \"v\", \"w\", \"x\", \"y\", \"z\"]\n",
    "encoded_alphabets = np.zeros((len(alphabets), len(alphabets)))\n",
    "for i in range(len(alphabets)):\n",
    "    encoded_alphabets[i][i] = 1"
   ]
  },
  {
   "cell_type": "markdown",
   "id": "ff651229",
   "metadata": {},
   "source": [
    "<h3>Reading Input Text File"
   ]
  },
  {
   "cell_type": "code",
   "execution_count": 3,
   "id": "c637e2c7",
   "metadata": {},
   "outputs": [],
   "source": [
    "for files in os.listdir():\n",
    "        filename, extension = os.path.splitext(files)\n",
    "        if extension == '.txt':\n",
    "            input_filename = files\n",
    "with open(input_filename) as f:\n",
    "    lines = f.readlines()\n",
    "\n",
    "words = np.zeros((len(lines), 11), dtype='U16')\n",
    "\n",
    "for name_index in range(len(lines)):\n",
    "    name = lines[name_index].lower().strip()\n",
    "    for character_index in range(len(name)):\n",
    "        words[name_index][character_index] = name[character_index]\n",
    "    for empty_index in range(len(name), 11):\n",
    "        words[name_index][empty_index] = 'eon'\n",
    "        \n",
    "words_copy = deepcopy(words)"
   ]
  },
  {
   "cell_type": "code",
   "execution_count": 4,
   "id": "b679fece",
   "metadata": {},
   "outputs": [],
   "source": [
    "desired_output = deepcopy(words)\n",
    "for i in range(len(words_copy)):\n",
    "    temp_array = np.delete(words_copy[i], 0)\n",
    "    desired_output[i] = np.append(temp_array, 'eon')"
   ]
  },
  {
   "cell_type": "code",
   "execution_count": 5,
   "id": "884cba5c",
   "metadata": {},
   "outputs": [],
   "source": [
    "inputs = np.ones((2000, 11, 27), dtype = 'double')\n",
    "for name_index in range(len(words)):\n",
    "    for char_index in range(len(words[name_index])):\n",
    "        character = words[name_index][char_index]\n",
    "        encoded_index = alphabets.index(character)\n",
    "        inputs[name_index][char_index] = encoded_alphabets[encoded_index]"
   ]
  },
  {
   "cell_type": "code",
   "execution_count": 6,
   "id": "b9db75e0",
   "metadata": {},
   "outputs": [],
   "source": [
    "outputs = np.ones((2000, 11, 27), dtype = 'double')\n",
    "for name_index in range(len(words)):\n",
    "    for char_index in range(len(words[name_index])):\n",
    "        character = words[name_index][char_index]\n",
    "        encoded_index = alphabets.index(character)\n",
    "        outputs[name_index][char_index] = encoded_alphabets[encoded_index]"
   ]
  },
  {
   "cell_type": "markdown",
   "id": "07d6b8bf",
   "metadata": {},
   "source": [
    "<h3>Creating Tensors for Inputs and Desired Outputs"
   ]
  },
  {
   "cell_type": "code",
   "execution_count": 7,
   "id": "33c3fabd",
   "metadata": {},
   "outputs": [],
   "source": [
    "inputs = torch.tensor(inputs).float()\n",
    "outputs = torch.tensor(outputs).float()"
   ]
  },
  {
   "cell_type": "markdown",
   "id": "0b19718f",
   "metadata": {},
   "source": [
    "<h3>Declaring Custom Dataset Class"
   ]
  },
  {
   "cell_type": "code",
   "execution_count": 8,
   "id": "81506c88",
   "metadata": {},
   "outputs": [],
   "source": [
    "class CustomDataset(Dataset):\n",
    "    def __init__(self):\n",
    "        pass\n",
    "        \n",
    "    def __len__(self):\n",
    "        return len(inputs)\n",
    "    \n",
    "    def __getitem__(self, index):\n",
    "        return inputs[index]"
   ]
  },
  {
   "cell_type": "markdown",
   "id": "afe8ee5c",
   "metadata": {},
   "source": [
    "<h3>Initializing DataLoader"
   ]
  },
  {
   "cell_type": "code",
   "execution_count": 9,
   "id": "4bf8750d",
   "metadata": {},
   "outputs": [],
   "source": [
    "train_loader = DataLoader(dataset = inputs, batch_size = 1, shuffle = False)"
   ]
  },
  {
   "cell_type": "markdown",
   "id": "be303c0b",
   "metadata": {},
   "source": [
    "<h3>Declaring Neural Network Layers for LSTM Operation"
   ]
  },
  {
   "cell_type": "code",
   "execution_count": 10,
   "id": "e9920250",
   "metadata": {},
   "outputs": [],
   "source": [
    "class Net(nn.Module):\n",
    "    def __init__(self):\n",
    "        super(Net, self).__init__()\n",
    "        self.hidden_1 = nn.LSTM(27, 27)\n",
    "        self.fc1 = nn.Linear(27, 27)\n",
    "        self.fc2 = nn.Linear(27, 27)\n",
    "        \n",
    "    def forward(self, output):\n",
    "        output, hidden = self.hidden_1(output)\n",
    "        output = self.fc1(output)\n",
    "        output = self.fc2(output)\n",
    "        return output, hidden"
   ]
  },
  {
   "cell_type": "markdown",
   "id": "83585259",
   "metadata": {},
   "source": [
    "<h3>Training the Neural Network and Saving the Model"
   ]
  },
  {
   "cell_type": "code",
   "execution_count": 20,
   "id": "3c1425fd",
   "metadata": {
    "scrolled": false
   },
   "outputs": [
    {
     "name": "stdout",
     "output_type": "stream",
     "text": [
      "| Epoch: 1 |  Training Cost: 0.649 |\n",
      "| Epoch: 2 |  Training Cost: 0.517 |\n",
      "| Epoch: 3 |  Training Cost: 0.465 |\n",
      "| Epoch: 4 |  Training Cost: 0.438 |\n",
      "| Epoch: 5 |  Training Cost: 0.416 |\n",
      "| Epoch: 6 |  Training Cost: 0.403 |\n",
      "| Epoch: 7 |  Training Cost: 0.399 |\n",
      "| Epoch: 8 |  Training Cost: 0.398 |\n",
      "| Epoch: 9 |  Training Cost: 0.398 |\n",
      "| Epoch: 10 |  Training Cost: 0.398 |\n",
      "| Epoch: 11 |  Training Cost: 0.398 |\n",
      "| Epoch: 12 |  Training Cost: 0.398 |\n",
      "| Epoch: 13 |  Training Cost: 0.398 |\n",
      "| Epoch: 14 |  Training Cost: 0.398 |\n",
      "| Epoch: 15 |  Training Cost: 0.398 |\n"
     ]
    }
   ],
   "source": [
    "model = Net()\n",
    "criterion = nn.CrossEntropyLoss()\n",
    "optimizer = optim.Adam(model.parameters(), lr = (1e-4))\n",
    "#Arrays used to plot the Epochs vs Loss plot\n",
    "epoch_tracker = []\n",
    "error_tracker = []\n",
    "\n",
    "for epoch in range(15):\n",
    "    epoch_tracker.append(epoch)\n",
    "    index = 0\n",
    "    for batch_index, name in enumerate(train_loader):\n",
    "        obtained_output, hidden = model(name)\n",
    "        training_loss = criterion(obtained_output, outputs[index].unsqueeze(0))\n",
    "        index = index + 1\n",
    "        optimizer.zero_grad()\n",
    "        training_loss.backward()\n",
    "        optimizer.step()\n",
    "    print(f'| Epoch: {epoch + 1} |  Training Cost: {round(training_loss.item(), 3)} |')\n",
    "    error_tracker.append(training_loss.item())\n",
    "    \n",
    "torch.save(model.state_dict(), \"model.pth\")"
   ]
  },
  {
   "cell_type": "markdown",
   "id": "7464dd89",
   "metadata": {},
   "source": [
    "<h3>Plotting the Training Loss vs Epoch graph"
   ]
  },
  {
   "cell_type": "code",
   "execution_count": 12,
   "id": "a6119943",
   "metadata": {
    "scrolled": true
   },
   "outputs": [
    {
     "data": {
      "image/png": "[encoded data removed]",
      "text/plain": [
       "<Figure size 432x288 with 1 Axes>"
      ]
     },
     "metadata": {
      "needs_background": "light"
     },
     "output_type": "display_data"
    }
   ],
   "source": [
    "plt.plot(epoch_tracker, error_tracker, color = 'red')\n",
    "plt.xlabel(\"Epochs\")\n",
    "plt.ylabel(\"Loss\")\n",
    "plt.title(\"Plot of Training Loss vs Epoch\")\n",
    "plt.show()"
   ]
  }
 ],
 "metadata": {
  "kernelspec": {
   "display_name": "Python 3",
   "language": "python",
   "name": "python3"
  },
  "language_info": {
   "codemirror_mode": {
    "name": "ipython",
    "version": 3
   },
   "file_extension": ".py",
   "mimetype": "text/x-python",
   "name": "python",
   "nbconvert_exporter": "python",
   "pygments_lexer": "ipython3",
   "version": "3.8.8"
  }
 },
 "nbformat": 4,
 "nbformat_minor": 5
}
